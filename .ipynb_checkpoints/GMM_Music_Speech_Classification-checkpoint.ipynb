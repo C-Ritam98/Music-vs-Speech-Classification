{
 "cells": [
  {
   "cell_type": "code",
   "execution_count": 1,
   "metadata": {},
   "outputs": [],
   "source": [
    "import numpy as np\n",
    "import os\n",
    "import pandas as pd\n",
    "import matplotlib.pyplot as plt\n",
    "import librosa\n",
    "import librosa.display\n",
    "from scipy import fftpack\n",
    "from tqdm.notebook import tqdm\n",
    "from numpy.fft import fft\n",
    "import random\n",
    "from scipy.io import wavfile\n",
    "from scipy import signal\n",
    "from scipy.stats import multivariate_normal"
   ]
  },
  {
   "cell_type": "code",
   "execution_count": 2,
   "metadata": {},
   "outputs": [],
   "source": [
    "# window specs\n",
    "WINDOW = 400 # in samples \n",
    "SHIFT  = 160 # in samples"
   ]
  },
  {
   "cell_type": "markdown",
   "metadata": {},
   "source": [
    "# Import Training data\n",
    "## First part - Loading Speech files"
   ]
  },
  {
   "cell_type": "code",
   "execution_count": null,
   "metadata": {},
   "outputs": [
    {
     "data": {
      "application/vnd.jupyter.widget-view+json": {
       "model_id": "81a80b8378404deab7c9cf50386ed674",
       "version_major": 2,
       "version_minor": 0
      },
      "text/plain": [
       "HBox(children=(HTML(value=''), FloatProgress(value=0.0, max=40.0), HTML(value='')))"
      ]
     },
     "metadata": {},
     "output_type": "display_data"
    }
   ],
   "source": [
    "# import speech data and apply FFt , window = hamming, hop_length = 160, Window_size = 400\n",
    "x_speech = []\n",
    "entries = os.listdir('train/speech/')\n",
    "for entry in tqdm(range(len(entries))):\n",
    "    sr,data = wavfile.read(os.path.join(\"train/speech/\"+ entries[entry]))\n",
    "    pad = np.array(np.zeros(80).T)  # padding applied\n",
    "    data = np.append(data,pad)\n",
    "    window = signal.hamming(400)  # window for applying FFT\n",
    "    for i in range(0,len(data)-WINDOW+SHIFT,SHIFT):\n",
    "        temp = np.array(data[i:i+400]).astype(float)\n",
    "        #print(window.shape)\n",
    "        temp = temp * window\n",
    "        temp_fft = np.log(np.abs(fft(temp,64)[:32]))  # 64 component magnitude FFT\n",
    "        if entry==0 and i==0:\n",
    "            Speech = temp_fft.T.reshape(32,1)\n",
    "            #print(speech_specto.shape)\n",
    "            continue\n",
    "        Speech = np.concatenate((Speech,temp_fft.reshape(32,1)),axis=1)\n",
    "\n"
   ]
  },
  {
   "cell_type": "code",
   "execution_count": null,
   "metadata": {},
   "outputs": [],
   "source": [
    "plt.figure(figsize=(10,10))\n",
    "plt.pcolormesh(Speech)\n",
    "print(Speech.shape)\n",
    "#Speech = Speech[:,1:] # shape = (32,119960)"
   ]
  },
  {
   "cell_type": "code",
   "execution_count": null,
   "metadata": {},
   "outputs": [],
   "source": [
    "Speech.shape"
   ]
  },
  {
   "cell_type": "markdown",
   "metadata": {},
   "source": [
    "## Second part - Loading Music files"
   ]
  },
  {
   "cell_type": "code",
   "execution_count": null,
   "metadata": {},
   "outputs": [],
   "source": [
    "# import Music data and apply FFt , window = hamming, hop_length = 160, Window_size = 400\n",
    "x_music = []\n",
    "entries = os.listdir('train/music/')\n",
    "for entry in tqdm(range(len(entries))):\n",
    "    sr,data = wavfile.read(os.path.join(\"train/music/\"+ entries[entry]))\n",
    "    pad = np.array(np.zeros(80).T)  # padding applied\n",
    "    data = np.append(data,pad)\n",
    "    window = signal.hamming(400)  # window for applying FFT\n",
    "    for i in range(0,len(data)-WINDOW+SHIFT,SHIFT):\n",
    "        temp = np.array(data[i:i+400]).astype(float)\n",
    "        #print(window.shape)\n",
    "        temp = temp * window\n",
    "        temp_fft = np.log(np.abs(fft(temp,64)[:32]))  # 64 component magnitude FFT\n",
    "        if entry==0 and i==0:\n",
    "            Music = temp_fft.T.reshape(32,1)\n",
    "            #print(speech_specto.shape)\n",
    "            continue\n",
    "        Music = np.concatenate((Music,temp_fft.reshape(32,1)),axis=1)\n",
    "\n",
    "#Music = Music[:,1:]     # shape = (32,119960)\n",
    "plt.figure(figsize=(10,10))\n",
    "print(Music.shape)\n",
    "plt.pcolormesh(Music)"
   ]
  },
  {
   "cell_type": "code",
   "execution_count": null,
   "metadata": {},
   "outputs": [],
   "source": [
    "Music.shape"
   ]
  },
  {
   "cell_type": "markdown",
   "metadata": {},
   "source": [
    "# Import test data"
   ]
  },
  {
   "cell_type": "code",
   "execution_count": null,
   "metadata": {},
   "outputs": [],
   "source": [
    "# importing test data\n",
    "x_test = []\n",
    "entries = os.listdir('test/')\n",
    "for entry in tqdm(range(len(entries))):\n",
    "    sr,data = wavfile.read(os.path.join(\"test/\"+ entries[entry]))\n",
    "    pad = np.array(np.zeros(80).T)  # padding applied\n",
    "    data = np.append(data,pad)\n",
    "    window = signal.hamming(400)  # window for applying FFT\n",
    "    for i in range(0,len(data)-WINDOW+SHIFT,SHIFT):\n",
    "        temp = np.array(data[i:i+400]).astype(float)\n",
    "        #print(window.shape)\n",
    "        temp = temp * window\n",
    "        temp_fft = np.log(np.abs(fft(temp,64)[:32]))  # 64 component magnitude FFT\n",
    "        # concatenate the vectors now\n",
    "        if entry==0 and i==0:\n",
    "            Test = temp_fft.T.reshape(32,1)\n",
    "            continue\n",
    "        Test = np.concatenate((Test,temp_fft.reshape(32,1)),axis=1)\n",
    "\n",
    "plt.figure(figsize=(10,10))\n",
    "print(Test.shape)\n",
    "plt.pcolormesh(Test)"
   ]
  },
  {
   "cell_type": "markdown",
   "metadata": {},
   "source": [
    "## Storing the audio files as a binary sequence, Music = 1, Speech = 0"
   ]
  },
  {
   "cell_type": "code",
   "execution_count": null,
   "metadata": {},
   "outputs": [],
   "source": [
    "y_music = []\n",
    "y_speech = []\n",
    "for i,entry in enumerate(entries):\n",
    "    if entry[0] == 'm':  # music\n",
    "        y_music.append(i)\n",
    "    else:                # speech\n",
    "        y_speech.append(i)\n",
    "\n",
    "# create a boolean 1-D array which stores 1 in the index of music file, and 0 corresponding to speech file. \n",
    "print(\"Printing the indices in which thew audio files are stored .\")\n",
    "print(\"Music\")\n",
    "print(y_music)\n",
    "print(\"Speech\")\n",
    "print(y_speech)\n",
    "y_test = [0 for i in range(48)] # initialising with 0\n",
    "for i in range(len(y_music)):  # set 1 in the indices of music file\n",
    "    y_test[y_music[i]] = 1\n",
    "    \n",
    "#y_test = np.array(y_test)"
   ]
  },
  {
   "cell_type": "markdown",
   "metadata": {},
   "source": [
    "# K-Means clustering implementation"
   ]
  },
  {
   "cell_type": "code",
   "execution_count": null,
   "metadata": {},
   "outputs": [],
   "source": [
    "def K_means(n_classes,X_data):\n",
    "\n",
    "    #X_data ==> data arranged in column wise fashion, X has the feature vectors in row-wise fashion\n",
    "    X = X_data.T.copy() # X has data data vectors stacked in rows\n",
    "\n",
    "    old_mew = np.zeros((n_classes,X.shape[1]))\n",
    "    mew = []\n",
    "\n",
    "    for i in range(n_classes):\n",
    "        mew.append(X[random.randint(0,X.shape[0]-1),:]) # initialising means with a random point\n",
    "\n",
    "    mew = np.array(mew)\n",
    "\n",
    "    D = np.zeros((X.shape[0],n_classes))   # Distance matrix initialised with 0\n",
    "\n",
    "    #print(D)\n",
    "    k_iter = 0\n",
    "    while True:\n",
    "        print(\"Distance matrix calculation....\")\n",
    "        for i in tqdm(range(X.shape[0])):\n",
    "            dist = 1e14\n",
    "            index = 0\n",
    "            for j in range(n_classes):\n",
    "                D[i,j] = 0\n",
    "                if dist > np.dot(X[i,:] - mew[j], X[i,:] - mew[j]):\n",
    "                    dist = np.dot(X[i,:] - mew[j], X[i,:] - mew[j])\n",
    "                    index = j\n",
    "            D[i,index] = 1\n",
    "            \n",
    "        print(D)\n",
    "        print(\"Update mean...\")\n",
    "        for i in tqdm(range(n_classes)):\n",
    "            mew[i] = np.mean(X[D[:,i] == 1])#/np.sum(D[:,i])\n",
    "\n",
    "\n",
    "        flag = False \n",
    "        for i in range(n_classes):\n",
    "            if np.abs(np.dot(old_mew[i],old_mew[i]) - np.dot(mew[i],mew[i])) > 1e-1:\n",
    "                flag = True\n",
    "                break\n",
    "\n",
    "        if flag == False:\n",
    "            return mew,D\n",
    "\n",
    "        old_mew = mew.copy()\n",
    "        k_iter += 1\n",
    "        if k_iter > 20:    # keeping bound in the number of iterations for large dimensions\n",
    "            return mew,D\n",
    "        \n",
    "\n"
   ]
  },
  {
   "cell_type": "markdown",
   "metadata": {},
   "source": [
    "# Implementation of EM algorithm using full covariance matrix "
   ]
  },
  {
   "cell_type": "code",
   "execution_count": null,
   "metadata": {},
   "outputs": [],
   "source": [
    "def EM_Algorithm_using_full_covariance(n_components,X_data):\n",
    "    # initialisation before EM algo\n",
    "    \n",
    "    X = X_data.T.copy()\n",
    "\n",
    "    N = X.shape[0]\n",
    "\n",
    "    means,D = K_means(n_components,X_data) # data vectors are columns\n",
    "\n",
    "    # data vectors are rows in X_data\n",
    "\n",
    "    # covariances , sigma.shape = (n_components,32,32)\n",
    "    sigma = []\n",
    "    for i in range(n_components):\n",
    "        sigma.append(np.matmul((X - means[i]).T,X - means[i]))\n",
    "    sigma = np.array(sigma)\n",
    "\n",
    "    # priors\n",
    "    pi = []\n",
    "    for i in range(n_components):\n",
    "        pi.append(X[D[:,i]==1].shape[0]/N)\n",
    "    pi = np.array(pi)\n",
    "    print(pi)\n",
    "\n",
    "    # class conditionals\n",
    "    gamma = []\n",
    "    for i in range(n_components):\n",
    "        gamma.append(np.zeros((N,)))\n",
    "    gamma = np.array(gamma)  # shape = (n_components,N)\n",
    "\n",
    "    M_variate = np.zeros((N,n_components))\n",
    "    for i in tqdm(range(n_components)):\n",
    "        M_variate[:,i] = multivariate_normal.pdf(X, mean=means[i], cov=sigma[i],allow_singular = True)\n",
    "\n",
    "\n",
    "    # EM algorithm for n_components\n",
    "    n_iter = 50\n",
    "    likelihood = []\n",
    "    N = X.shape[0]\n",
    "    for i in tqdm(range(n_iter)):\n",
    "\n",
    "        print(\"E-step\") \n",
    "        M_variate = pi.reshape(1,n_components) * M_variate\n",
    "        gamma = M_variate * ((M_variate @ np.ones((n_components,1))) ** -1)\n",
    "\n",
    "\n",
    "        print(\"M step\")\n",
    "        \n",
    "        # Mean updation\n",
    "        means = (X.T @ gamma) * (((gamma.T  @ np.ones((N,1))).T) ** -1 ) #  shape = (32,n_components)\n",
    "        \n",
    "        # Covariance matrix updation\n",
    "        for i in tqdm(range(n_components)):\n",
    "            x = gamma.T[i]\n",
    "            sigma[i] = ((X.T - means[:,i].reshape(32,1)) * x.reshape(1,N)) @ (X - means[:,i].T)\n",
    "            sigma[i] = sigma[i] / np.sum(x) \n",
    "        \n",
    "        # prior probabilities updation\n",
    "        pi = np.mean(gamma,axis=0)    \n",
    "        print(\"Prior values :\",pi)   \n",
    "        print(\"Multivariate...\")\n",
    "        for i in tqdm(range(n_components)):\n",
    "            M_variate[:,i] = multivariate_normal.pdf(X, mean=means[:,i], cov=sigma[i],allow_singular = True)\n",
    "\n",
    "\n",
    "        print(\"Likelihood evaluation\")    \n",
    "\n",
    "        like = np.sum(np.log((pi.reshape(1,n_components) * M_variate) @ np.ones((n_components,1)))) # same as np.sum with axis=1\n",
    "        print(\"Log Likelihood = \",like)                                                              \n",
    "        likelihood.append(like)\n",
    "\n",
    "\n",
    "    plt.plot(range(len(likelihood)),likelihood, color='b')\n",
    "    plt.title(\"Log Likelihood\")\n",
    "    plt.xlabel(\"Iterations\")\n",
    "    plt.ylabel(\"Likelihood value\")\n",
    "    plt.show()\n",
    "    \n",
    "    return means,sigma,pi\n",
    "    "
   ]
  },
  {
   "cell_type": "markdown",
   "metadata": {},
   "source": [
    "# Implementation of EM algorithm using diagonal covariance matrix"
   ]
  },
  {
   "cell_type": "code",
   "execution_count": null,
   "metadata": {},
   "outputs": [],
   "source": [
    "def EM_Algorithm_using_diagonal_covariance(n_components,X_data):\n",
    "    # initialisation before EM\n",
    "    \n",
    "    # K-means returns the means of the clusters\n",
    "    means,D = K_means(n_components,X_data) # data vectors are columns in X_data\n",
    "    \n",
    "    X = X_data.T.copy() # data vectors are rows in X\n",
    "    \n",
    "    N = X.shape[0]\n",
    "\n",
    "    sigma = []\n",
    "    for i in range(n_components):\n",
    "        sigma.append(np.matmul((X - means[i]).T,X - means[i]))\n",
    "    sigma = np.array(sigma)\n",
    "\n",
    "    # priors\n",
    "    pi = []\n",
    "    for i in range(n_components):\n",
    "        pi.append(X[D[:,i]==1].shape[0]/N)\n",
    "    pi = np.array(pi)\n",
    "    print(pi)\n",
    "\n",
    "    # posteriors\n",
    "    gamma = []\n",
    "    for i in range(n_components):\n",
    "        gamma.append(np.zeros((N,)))\n",
    "    gamma = np.array(gamma)  # shape = (n_components,N)\n",
    "\n",
    "    M_variate = np.zeros((N,n_components))\n",
    "    for i in tqdm(range(n_components)):\n",
    "        M_variate[:,i] = multivariate_normal.pdf(X, mean=means[i], cov=sigma[i],allow_singular = True)\n",
    "\n",
    "    # Em algorithm for n_components\n",
    "    \n",
    "    n_iter = 50\n",
    "    likelihood = []\n",
    "    \n",
    "    for i in tqdm(range(n_iter)):\n",
    "\n",
    "        print(\"E-step\") \n",
    "        M_variate = pi.reshape(1,n_components) * M_variate\n",
    "        gamma = M_variate * ((M_variate @ np.ones((n_components,1))) ** -1)\n",
    "\n",
    "\n",
    "        print(\"M step\")\n",
    "        \n",
    "        # update means\n",
    "        means = (X.T @ gamma) * (((gamma.T  @ np.ones((N,1))).T) ** -1 ) # (32,n_components)\n",
    "        \n",
    "        # update covariance matrices\n",
    "        for i in tqdm(range(n_components)):\n",
    "            x = gamma.T[i]\n",
    "            sigma[i] = ((X.T - means[:,i].reshape(32,1)) * x.reshape(1,N)) @ (X - means[:,i].T)\n",
    "            sigma[i] = sigma[i] / np.sum(x)\n",
    "\n",
    "        # update priors probabilities\n",
    "        pi = np.mean(gamma,axis=0)    \n",
    "        print(\"Prior values:\",pi)   \n",
    "        print(\"Multivariate...\")\n",
    "        for i in tqdm(range(n_components)):\n",
    "            M_variate[:,i] = multivariate_normal.pdf(X, mean=means[:,i], cov=np.diag(np.diag(sigma[i])),allow_singular = True)\n",
    "\n",
    "\n",
    "        print(\"Likelihood evaluation\")    \n",
    "\n",
    "        like = np.sum(np.log((pi.reshape(1,n_components) * M_variate) @ np.ones((n_components,1))))\n",
    "        print(\"Log Likelihood = \",like)                                                              \n",
    "        likelihood.append(like)\n",
    "\n",
    "\n",
    "    plt.plot(range(len(likelihood)),likelihood, color='b')\n",
    "    plt.title(\"Log Likelihood\")\n",
    "    plt.xlabel(\"Iterations\")\n",
    "    plt.ylabel(\"Likelihood value\")\n",
    "    plt.show()\n",
    "    \n",
    "    return means,sigma,pi"
   ]
  },
  {
   "cell_type": "markdown",
   "metadata": {},
   "source": [
    "\n",
    "## 2 mixtures with full covariance for Speech data"
   ]
  },
  {
   "cell_type": "code",
   "execution_count": null,
   "metadata": {},
   "outputs": [],
   "source": [
    "means,sigma,pi = EM_Algorithm_using_full_covariance(2,Speech)"
   ]
  },
  {
   "cell_type": "markdown",
   "metadata": {},
   "source": [
    "## Predict the posterior values for each vector in spectrogram of test data applying speech parameters (full covariance)"
   ]
  },
  {
   "cell_type": "code",
   "execution_count": null,
   "metadata": {},
   "outputs": [],
   "source": [
    "n_components = 2\n",
    "test_speech_posterior = np.zeros((Test.shape[1],n_components)) #test_speech_posterior.shape = (143952,n_components = 2)\n",
    "\n",
    "for i in tqdm(range(n_components)):\n",
    "    test_speech_posterior[:,i] = multivariate_normal.pdf(Test.T, mean=means[:,i], cov=sigma[i],allow_singular = True)\n",
    "\n",
    "test_speech_posterior = pi.reshape(1,n_components) * test_speech_posterior\n",
    "print(test_speech_posterior.shape)"
   ]
  },
  {
   "cell_type": "markdown",
   "metadata": {},
   "source": [
    "# 2 mixtures with full covariance for Music data"
   ]
  },
  {
   "cell_type": "code",
   "execution_count": null,
   "metadata": {},
   "outputs": [],
   "source": [
    "means,sigma,pi = EM_Algorithm_using_full_covariance(2,Music)"
   ]
  },
  {
   "cell_type": "markdown",
   "metadata": {},
   "source": [
    "## Predict the posterior values for each vector in spectrogram of test data applying Music parameters (full covariance)"
   ]
  },
  {
   "cell_type": "code",
   "execution_count": null,
   "metadata": {},
   "outputs": [],
   "source": [
    "n_components = 2\n",
    "test_music_posterior = np.zeros((Test.shape[1],n_components)) #test_music_posterior.shape = (143952,n_components = 2)\n",
    "\n",
    "# calculate the likelihood \n",
    "for i in tqdm(range(n_components)):\n",
    "    test_music_posterior[:,i] = multivariate_normal.pdf(Test.T, mean=means[:,i], cov=sigma[i],allow_singular = True)\n",
    "\n",
    "# calculate the posterior by multiplying prior with likelihood\n",
    "test_music_posterior = pi.reshape(1,n_components) * test_music_posterior\n",
    "print(test_music_posterior.shape)"
   ]
  },
  {
   "cell_type": "markdown",
   "metadata": {},
   "source": [
    "## Compare posteriors obtained form from test data calculated above for speech and music specifications and Accuracy calculation"
   ]
  },
  {
   "cell_type": "code",
   "execution_count": null,
   "metadata": {},
   "outputs": [],
   "source": [
    "y_pred = np.sum(test_speech_posterior,axis = 1) < np.sum(test_music_posterior,axis=1)\n",
    "\n",
    "#print(y_pred.shape)\n",
    "predict=[]\n",
    "for i in range(0,y_pred.shape[0],2999):\n",
    "    predict.append(np.mean(y_pred[i:i+2999])>0.5)\n",
    "    \n",
    "\n",
    "print(\"Accuracy= (Matches in prediction) / (Total number of audio files) = \",np.mean(predict==np.array(y_test)))"
   ]
  },
  {
   "cell_type": "markdown",
   "metadata": {},
   "source": [
    "### Accuracy obtained = 81.25 %\n",
    "### Mismatches = 7 audio files out of 48"
   ]
  },
  {
   "cell_type": "markdown",
   "metadata": {},
   "source": [
    "# Procedure to predicting Audio files:\n",
    "1) I have used the following technique for predicting the class of audio files.\n",
    "\n",
    "2) Firstly, imported the test  dataset of size (32,143952) after applying FFT.\n",
    "\n",
    "3) Each audio file gets transformed in to a matrix of size (32,2999)\n",
    "\n",
    "4) After EM training, the class wise means, priors  and covariances are obtained.\n",
    "\n",
    "5) For each audio file, each vector of size (32,1) is taken and applied the GMM parameters (obtained after training) of the classes to obtain the posterior values. Using the posterior value the class of that vector is assigned. Boolean value is assigned : Music = 1 and Speech = 0.\n",
    "\n",
    "6) This is done for all the 2999 vectors of the audio file.\n",
    "\n",
    "7) Now, I find the proportion of vectors assigned the class of MUSIC. This done by taking the mean value of the vector containing the class details. \n",
    "\n",
    "8) If the proportion value is more than 0.5, I assign the entire ausio file as Music, else the audio file is tagged as Speech.\n",
    "\n",
    "9) Following this, I compare my prediction vector with the y_test vector and print the accuracy value.\n",
    "\n",
    "10) This is done for all the models implemented in the Assignment.\n"
   ]
  },
  {
   "cell_type": "markdown",
   "metadata": {},
   "source": [
    "#  PART (B): Sub-part (i):\n",
    "# 2 mixtures with diagonal covariance for Speech data\n"
   ]
  },
  {
   "cell_type": "code",
   "execution_count": null,
   "metadata": {},
   "outputs": [],
   "source": [
    "means,sigma,pi = EM_Algorithm_using_diagonal_covariance(2,Speech)\n",
    "# likelihood graph at the end"
   ]
  },
  {
   "cell_type": "markdown",
   "metadata": {},
   "source": [
    "# Predict the posterior values for each vector in spectrogram of test data applying speech parameters (diagonal covariance)"
   ]
  },
  {
   "cell_type": "code",
   "execution_count": null,
   "metadata": {},
   "outputs": [],
   "source": [
    "n_components = 2\n",
    "test_speech_posterior = np.zeros((Test.shape[1],n_components)) #test_speech_posterior.shape = (143952,n_components = 2)\n",
    "\n",
    "for i in tqdm(range(n_components)):\n",
    "    test_speech_posterior[:,i] = multivariate_normal.pdf(Test.T, mean=means[:,i], cov=np.diag(np.diag(sigma[i])),allow_singular = True)\n",
    "\n",
    "test_speech_posterior = pi.reshape(1,n_components) * test_speech_posterior\n",
    "print(test_speech_posterior.shape)"
   ]
  },
  {
   "cell_type": "markdown",
   "metadata": {},
   "source": [
    "## 2 mixtures with diagonal covariance for Music data"
   ]
  },
  {
   "cell_type": "code",
   "execution_count": null,
   "metadata": {},
   "outputs": [],
   "source": [
    "means,sigma,pi = EM_Algorithm_using_diagonal_covariance(2,Music)\n"
   ]
  },
  {
   "cell_type": "markdown",
   "metadata": {},
   "source": [
    "## Predict the posterior values for each vector in spectrogram of test data applying Music parameters (Diagonal covariance)"
   ]
  },
  {
   "cell_type": "code",
   "execution_count": null,
   "metadata": {},
   "outputs": [],
   "source": [
    "n_components = 2\n",
    "test_music_posterior = np.zeros((Test.shape[1],n_components)) #test_music_posterior.shape = (143952,n_components = 2)\n",
    "\n",
    "# calculate likelihoods\n",
    "for i in tqdm(range(n_components)):\n",
    "    test_music_posterior[:,i] = multivariate_normal.pdf(Test.T, mean=means[:,i], cov=np.diag(np.diag(sigma[i])),allow_singular = True)\n",
    "\n",
    "# calculate posteriors by multiplying priors and likelihoods\n",
    "test_music_posterior = pi.reshape(1,n_components) * test_music_posterior\n",
    "print(test_music_posterior.shape)"
   ]
  },
  {
   "cell_type": "markdown",
   "metadata": {},
   "source": [
    "## Compare posteriors obtained form from test data calculated above for speech and music specifications and Accuracy calculation"
   ]
  },
  {
   "cell_type": "code",
   "execution_count": null,
   "metadata": {},
   "outputs": [],
   "source": [
    "y_pred = np.sum(test_speech_posterior,axis = 1) < np.sum(test_music_posterior,axis=1)\n",
    "\n",
    "predict=[]\n",
    "for i in range(0,y_pred.shape[0],2999):\n",
    "    predict.append(np.mean(y_pred[i:i+2999])>0.5)\n",
    "    \n",
    "\n",
    "print(\"Accuracy= (Matches in prediction) / (Total number of audio files) = \",np.mean(predict==np.array(y_test)))"
   ]
  },
  {
   "cell_type": "markdown",
   "metadata": {},
   "source": [
    "### Accuracy = 70.83 % for using diagonal covariances\n",
    "### Mismatches = 14 out of 48 audio files"
   ]
  },
  {
   "cell_type": "markdown",
   "metadata": {},
   "source": [
    "\n",
    "## 5 mixture component with full covariance for Speech data "
   ]
  },
  {
   "cell_type": "code",
   "execution_count": null,
   "metadata": {},
   "outputs": [],
   "source": [
    "Means,Sigma,Pi = EM_Algorithm_using_full_covariance(5,Speech)"
   ]
  },
  {
   "cell_type": "markdown",
   "metadata": {},
   "source": [
    "## Predict the posterior values for each vector in spectrogram of test data applying Speech parameters (full covariance, 5 mixture component)"
   ]
  },
  {
   "cell_type": "code",
   "execution_count": null,
   "metadata": {},
   "outputs": [],
   "source": [
    "n_components = 5\n",
    "test_speech_posterior = np.zeros((Test.shape[1],n_components)) #test_speech_posterior.shape = (143952,n_components = 2)\n",
    "\n",
    "# calculate likelihood\n",
    "for i in tqdm(range(n_components)):\n",
    "    test_speech_posterior[:,i] = multivariate_normal.pdf(Test.T, mean=Means[:,i], cov=Sigma[i],allow_singular = True)\n",
    "\n",
    "# calculate posterior= prior * likelihood\n",
    "test_speech_posterior = Pi.reshape(1,n_components) * test_speech_posterior\n",
    "print(test_speech_posterior.shape)"
   ]
  },
  {
   "cell_type": "markdown",
   "metadata": {},
   "source": [
    "## 5 mixture component with full covariance for Music data"
   ]
  },
  {
   "cell_type": "code",
   "execution_count": null,
   "metadata": {},
   "outputs": [],
   "source": [
    "Means,Sigma,Pi = EM_Algorithm_using_full_covariance(5,Music)"
   ]
  },
  {
   "cell_type": "markdown",
   "metadata": {},
   "source": [
    "## Predict the posterior values for each vector in spectrogram of test data applying Music parameters (full covariance, 5 mixture component)"
   ]
  },
  {
   "cell_type": "code",
   "execution_count": null,
   "metadata": {},
   "outputs": [],
   "source": [
    "n_components = 5\n",
    "test_music_posterior = np.zeros((Test.shape[1],n_components)) #test_music_posterior.shape = (143952,n_components = 2)\n",
    "\n",
    "# likelihood\n",
    "for i in tqdm(range(n_components)):\n",
    "    test_music_posterior[:,i] = multivariate_normal.pdf(Test.T, mean=Means[:,i], cov=np.diag(np.diag(Sigma[i])),allow_singular = True)\n",
    "\n",
    "# posterior = prior * likelihood\n",
    "test_music_posterior = Pi.reshape(1,n_components) * test_music_posterior\n",
    "print(test_music_posterior.shape)"
   ]
  },
  {
   "cell_type": "markdown",
   "metadata": {},
   "source": [
    "## Compare posteriors obtained form from test data calculated above for speech and music specifications and Accuracy calculation"
   ]
  },
  {
   "cell_type": "code",
   "execution_count": null,
   "metadata": {},
   "outputs": [],
   "source": [
    "y_pred = np.sum(test_speech_posterior,axis = 1) < np.sum(test_music_posterior,axis=1)\n",
    "\n",
    "#print(y_pred.shape)\n",
    "predict=[]\n",
    "for i in range(0,y_pred.shape[0],2999):\n",
    "    predict.append(np.mean(y_pred[i:i+2999])>0.5)\n",
    "    \n",
    "\n",
    "print(\"Accuracy= (Matches in prediction) / (Total number of audio files) = \",np.mean(predict==np.array(y_test)))"
   ]
  },
  {
   "cell_type": "markdown",
   "metadata": {},
   "source": [
    "### Accuracy = 50%\n",
    "### Misclassified audio files = 24 out of 48"
   ]
  },
  {
   "cell_type": "markdown",
   "metadata": {},
   "source": [
    "# 5 mixture component with diagonal covariance for Speech data"
   ]
  },
  {
   "cell_type": "code",
   "execution_count": null,
   "metadata": {},
   "outputs": [],
   "source": [
    "Means,Sigma,Pi = EM_Algorithm_using_diagonal_covariance(5,Speech)"
   ]
  },
  {
   "cell_type": "markdown",
   "metadata": {},
   "source": [
    "# Predict the posterior values for each vector in spectrogram of test data applying Speech parameters (diagonal covariance, 5 mixture component)"
   ]
  },
  {
   "cell_type": "code",
   "execution_count": null,
   "metadata": {},
   "outputs": [],
   "source": [
    "n_components = 5\n",
    "test_speech_posterior = np.zeros((Test.shape[1],n_components)) #test_speech_posterior.shape = (143952,n_components = 2)\n",
    "\n",
    "# likelihood\n",
    "for i in tqdm(range(n_components)):\n",
    "    test_speech_posterior[:,i] = multivariate_normal.pdf(Test.T, mean=Means[:,i], cov=Sigma[i],allow_singular = True)\n",
    "\n",
    "# posterior = prior * likelihood\n",
    "test_speech_posterior = Pi.reshape(1,n_components) * test_speech_posterior\n",
    "print(test_speech_posterior.shape)"
   ]
  },
  {
   "cell_type": "markdown",
   "metadata": {},
   "source": [
    "# 5 mixture component with diagonal covariance for Music data "
   ]
  },
  {
   "cell_type": "code",
   "execution_count": null,
   "metadata": {},
   "outputs": [],
   "source": [
    "Means,Sigma,Pi = EM_Algorithm_using_diagonal_covariance(5,Music)"
   ]
  },
  {
   "cell_type": "markdown",
   "metadata": {},
   "source": [
    "# Predict the posterior values for each vector in spectrogram of test data applying Music parameters (diagonal covariance, 5 mixture component)"
   ]
  },
  {
   "cell_type": "code",
   "execution_count": null,
   "metadata": {},
   "outputs": [],
   "source": [
    "n_components = 5\n",
    "test_music_posterior = np.zeros((Test.shape[1],n_components)) #test_music_posterior.shape = (143952,n_components = 2)\n",
    "\n",
    "# likelihood\n",
    "for i in tqdm(range(n_components)):\n",
    "    test_music_posterior[:,i] = multivariate_normal.pdf(Test.T, mean=Means[:,i], cov=np.diag(np.diag(Sigma[i])),allow_singular = True)\n",
    "\n",
    "# posterior = prior * likelihood\n",
    "test_music_posterior = Pi.reshape(1,n_components) * test_music_posterior\n",
    "print(test_music_posterior.shape)"
   ]
  },
  {
   "cell_type": "markdown",
   "metadata": {},
   "source": [
    "# Compare posteriors obtained form from test data calculated above for speech and music specifications and Accuracy calculation"
   ]
  },
  {
   "cell_type": "code",
   "execution_count": null,
   "metadata": {},
   "outputs": [],
   "source": [
    "y_pred = np.sum(test_speech_posterior,axis = 1) < np.sum(test_music_posterior,axis=1)\n",
    "\n",
    "#print(y_pred.shape)\n",
    "predict=[]\n",
    "for i in range(0,y_pred.shape[0],2999):\n",
    "    predict.append(np.mean(y_pred[i:i+2999])>0.5)\n",
    "    \n",
    "\n",
    "print(\"Accuracy= (Matches in prediction) / (Total number of audio files) = \",np.mean(predict==np.array(y_test)))"
   ]
  },
  {
   "cell_type": "markdown",
   "metadata": {},
   "source": [
    "# Accuracy = 50 %\n",
    "## Mismatches = 24 out of 48 audio files"
   ]
  },
  {
   "cell_type": "code",
   "execution_count": null,
   "metadata": {},
   "outputs": [],
   "source": []
  }
 ],
 "metadata": {
  "kernelspec": {
   "display_name": "Python 3",
   "language": "python",
   "name": "python3"
  },
  "language_info": {
   "codemirror_mode": {
    "name": "ipython",
    "version": 3
   },
   "file_extension": ".py",
   "mimetype": "text/x-python",
   "name": "python",
   "nbconvert_exporter": "python",
   "pygments_lexer": "ipython3",
   "version": "3.8.5"
  }
 },
 "nbformat": 4,
 "nbformat_minor": 4
}
